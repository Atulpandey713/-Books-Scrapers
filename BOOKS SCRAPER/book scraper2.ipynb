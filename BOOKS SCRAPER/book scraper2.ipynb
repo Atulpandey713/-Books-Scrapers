{
 "cells": [
  {
   "cell_type": "markdown",
   "id": "0e88c6b2",
   "metadata": {},
   "source": [
    "book scraper for multiple pages"
   ]
  },
  {
   "cell_type": "code",
   "execution_count": 1,
   "id": "2de01433",
   "metadata": {},
   "outputs": [],
   "source": [
    "import requests\n",
    "from bs4 import BeautifulSoup\n",
    "from tqdm import tqdm\n",
    "import pandas as pd\n",
    "\n",
    "link = 'https://books.toscrape.com/catalogue/page-1.html'"
   ]
  },
  {
   "cell_type": "code",
   "execution_count": null,
   "id": "33f1af05",
   "metadata": {},
   "outputs": [],
   "source": []
  },
  {
   "cell_type": "code",
   "execution_count": 2,
   "id": "5b118598",
   "metadata": {},
   "outputs": [
    {
     "name": "stderr",
     "output_type": "stream",
     "text": [
      "100%|██████████| 10/10 [00:15<00:00,  1.59s/it]\n"
     ]
    }
   ],
   "source": [
    "data = []\n",
    "for page in tqdm(range(1,11)):\n",
    "    link = 'https://books.toscrape.com/page' + str(page)\n",
    "    res = requests.get(link)\n",
    "    soup = BeautifulSoup(res.text, 'html.parser')\n",
    "\n",
    "    for sp in soup.find_all('div', class_='quote'):\n",
    "\n",
    "      quote     = sp.find('span', class_='text').text[1:-1]\n",
    "      author    = sp.find('small').text\n",
    "      author_id =sp.find('a').get('href')\n",
    "\n",
    "      tags=[]\n",
    "      for tag in sp.find_all('a', class_='tag'):\n",
    "          tags.append(tag.text)\n",
    "      tags=','.join(tags)\n",
    " \n",
    "      data.append([quote,author,author_id,tags])"
   ]
  },
  {
   "cell_type": "code",
   "execution_count": 3,
   "id": "6758f994",
   "metadata": {},
   "outputs": [],
   "source": [
    "df=pd.DataFrame(data,columns=['quote','author','author_id','tags'])"
   ]
  },
  {
   "cell_type": "code",
   "execution_count": 7,
   "id": "b11c1df4",
   "metadata": {},
   "outputs": [
    {
     "data": {
      "text/plain": [
       "0"
      ]
     },
     "execution_count": 7,
     "metadata": {},
     "output_type": "execute_result"
    }
   ],
   "source": [
    "len(df)"
   ]
  },
  {
   "cell_type": "code",
   "execution_count": 6,
   "id": "428a1be4",
   "metadata": {},
   "outputs": [
    {
     "data": {
      "text/html": [
       "<div>\n",
       "<style scoped>\n",
       "    .dataframe tbody tr th:only-of-type {\n",
       "        vertical-align: middle;\n",
       "    }\n",
       "\n",
       "    .dataframe tbody tr th {\n",
       "        vertical-align: top;\n",
       "    }\n",
       "\n",
       "    .dataframe thead th {\n",
       "        text-align: right;\n",
       "    }\n",
       "</style>\n",
       "<table border=\"1\" class=\"dataframe\">\n",
       "  <thead>\n",
       "    <tr style=\"text-align: right;\">\n",
       "      <th></th>\n",
       "      <th>quote</th>\n",
       "      <th>author</th>\n",
       "      <th>author_id</th>\n",
       "      <th>tags</th>\n",
       "    </tr>\n",
       "  </thead>\n",
       "  <tbody>\n",
       "  </tbody>\n",
       "</table>\n",
       "</div>"
      ],
      "text/plain": [
       "Empty DataFrame\n",
       "Columns: [quote, author, author_id, tags]\n",
       "Index: []"
      ]
     },
     "execution_count": 6,
     "metadata": {},
     "output_type": "execute_result"
    }
   ],
   "source": [
    "df.head()"
   ]
  }
 ],
 "metadata": {
  "kernelspec": {
   "display_name": "Python 3",
   "language": "python",
   "name": "python3"
  },
  "language_info": {
   "codemirror_mode": {
    "name": "ipython",
    "version": 3
   },
   "file_extension": ".py",
   "mimetype": "text/x-python",
   "name": "python",
   "nbconvert_exporter": "python",
   "pygments_lexer": "ipython3",
   "version": "3.13.3"
  }
 },
 "nbformat": 4,
 "nbformat_minor": 5
}
